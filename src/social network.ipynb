{
 "cells": [
  {
   "cell_type": "code",
   "execution_count": 1,
   "metadata": {},
   "outputs": [],
   "source": [
    "%matplotlib inline\n",
    "import matplotlib.pyplot as plt\n",
    "import networkx as nx\n",
    "import pandas as pd\n",
    "import re\n",
    "import numpy as np\n",
    "from collections import Counter\n",
    "plt.style.use('ggplot')"
   ]
  },
  {
   "cell_type": "code",
   "execution_count": 52,
   "metadata": {},
   "outputs": [
    {
     "data": {
      "text/html": [
       "<div>\n",
       "<style scoped>\n",
       "    .dataframe tbody tr th:only-of-type {\n",
       "        vertical-align: middle;\n",
       "    }\n",
       "\n",
       "    .dataframe tbody tr th {\n",
       "        vertical-align: top;\n",
       "    }\n",
       "\n",
       "    .dataframe thead th {\n",
       "        text-align: right;\n",
       "    }\n",
       "</style>\n",
       "<table border=\"1\" class=\"dataframe\">\n",
       "  <thead>\n",
       "    <tr style=\"text-align: right;\">\n",
       "      <th></th>\n",
       "      <th>Unnamed: 0</th>\n",
       "      <th>url</th>\n",
       "      <th>date</th>\n",
       "      <th>user</th>\n",
       "      <th>tweet</th>\n",
       "      <th>tweet_id</th>\n",
       "      <th>followers_count</th>\n",
       "      <th>friends_count</th>\n",
       "      <th>statuses_count</th>\n",
       "      <th>location</th>\n",
       "      <th>reply_count</th>\n",
       "      <th>retweet_count</th>\n",
       "      <th>like_count</th>\n",
       "      <th>mentioned_user</th>\n",
       "      <th>score</th>\n",
       "      <th>label</th>\n",
       "    </tr>\n",
       "  </thead>\n",
       "  <tbody>\n",
       "    <tr>\n",
       "      <th>0</th>\n",
       "      <td>0</td>\n",
       "      <td>https://twitter.com/junoakita2/status/15961425...</td>\n",
       "      <td>2022-11-25 14:03:43+00:00</td>\n",
       "      <td>junoakita2</td>\n",
       "      <td>Kalahkan resesi, Binance!\\n#Pemenang #Binance ...</td>\n",
       "      <td>1596142589970784256</td>\n",
       "      <td>3481</td>\n",
       "      <td>3231</td>\n",
       "      <td>51689</td>\n",
       "      <td>NaN</td>\n",
       "      <td>0</td>\n",
       "      <td>0</td>\n",
       "      <td>0</td>\n",
       "      <td>NaN</td>\n",
       "      <td>0.994895</td>\n",
       "      <td>neutral</td>\n",
       "    </tr>\n",
       "    <tr>\n",
       "      <th>1</th>\n",
       "      <td>1</td>\n",
       "      <td>https://twitter.com/ghazellow/status/159614137...</td>\n",
       "      <td>2022-11-25 13:58:53+00:00</td>\n",
       "      <td>ghazellow</td>\n",
       "      <td>@kumparan Wahhhh pak, nggak di ralat apa. \\n\\n...</td>\n",
       "      <td>1596141374906060801</td>\n",
       "      <td>366</td>\n",
       "      <td>799</td>\n",
       "      <td>11254</td>\n",
       "      <td>jakarta</td>\n",
       "      <td>0</td>\n",
       "      <td>0</td>\n",
       "      <td>0</td>\n",
       "      <td>kumparan</td>\n",
       "      <td>0.913776</td>\n",
       "      <td>negative</td>\n",
       "    </tr>\n",
       "    <tr>\n",
       "      <th>2</th>\n",
       "      <td>2</td>\n",
       "      <td>https://twitter.com/leesoheey/status/159613952...</td>\n",
       "      <td>2022-11-25 13:51:31+00:00</td>\n",
       "      <td>leesoheey</td>\n",
       "      <td>@LUNERPW ngobrolin dampak resesi 2023 mau ga?</td>\n",
       "      <td>1596139520529137665</td>\n",
       "      <td>657</td>\n",
       "      <td>696</td>\n",
       "      <td>672</td>\n",
       "      <td>NaN</td>\n",
       "      <td>0</td>\n",
       "      <td>0</td>\n",
       "      <td>0</td>\n",
       "      <td>LUNERPW</td>\n",
       "      <td>0.989647</td>\n",
       "      <td>neutral</td>\n",
       "    </tr>\n",
       "    <tr>\n",
       "      <th>3</th>\n",
       "      <td>3</td>\n",
       "      <td>https://twitter.com/heelyhs/status/15961386629...</td>\n",
       "      <td>2022-11-25 13:48:06+00:00</td>\n",
       "      <td>heelyhs</td>\n",
       "      <td>Sekarang gw percaya 2023 resesi awoakwoakwk</td>\n",
       "      <td>1596138662915608577</td>\n",
       "      <td>855</td>\n",
       "      <td>848</td>\n",
       "      <td>26756</td>\n",
       "      <td>ID-EN • 잘난</td>\n",
       "      <td>0</td>\n",
       "      <td>0</td>\n",
       "      <td>0</td>\n",
       "      <td>NaN</td>\n",
       "      <td>0.880351</td>\n",
       "      <td>positive</td>\n",
       "    </tr>\n",
       "    <tr>\n",
       "      <th>4</th>\n",
       "      <td>4</td>\n",
       "      <td>https://twitter.com/bdleonanda/status/15961385...</td>\n",
       "      <td>2022-11-25 13:47:45+00:00</td>\n",
       "      <td>bdleonanda</td>\n",
       "      <td>Pasar fisik ketat - keseimbangan penawaran dan...</td>\n",
       "      <td>1596138572327030784</td>\n",
       "      <td>5398</td>\n",
       "      <td>4478</td>\n",
       "      <td>20760</td>\n",
       "      <td>PADANG,INDONESIA</td>\n",
       "      <td>1</td>\n",
       "      <td>0</td>\n",
       "      <td>0</td>\n",
       "      <td>NaN</td>\n",
       "      <td>0.972917</td>\n",
       "      <td>negative</td>\n",
       "    </tr>\n",
       "  </tbody>\n",
       "</table>\n",
       "</div>"
      ],
      "text/plain": [
       "   Unnamed: 0                                                url  \\\n",
       "0           0  https://twitter.com/junoakita2/status/15961425...   \n",
       "1           1  https://twitter.com/ghazellow/status/159614137...   \n",
       "2           2  https://twitter.com/leesoheey/status/159613952...   \n",
       "3           3  https://twitter.com/heelyhs/status/15961386629...   \n",
       "4           4  https://twitter.com/bdleonanda/status/15961385...   \n",
       "\n",
       "                        date        user  \\\n",
       "0  2022-11-25 14:03:43+00:00  junoakita2   \n",
       "1  2022-11-25 13:58:53+00:00   ghazellow   \n",
       "2  2022-11-25 13:51:31+00:00   leesoheey   \n",
       "3  2022-11-25 13:48:06+00:00     heelyhs   \n",
       "4  2022-11-25 13:47:45+00:00  bdleonanda   \n",
       "\n",
       "                                               tweet             tweet_id  \\\n",
       "0  Kalahkan resesi, Binance!\\n#Pemenang #Binance ...  1596142589970784256   \n",
       "1  @kumparan Wahhhh pak, nggak di ralat apa. \\n\\n...  1596141374906060801   \n",
       "2      @LUNERPW ngobrolin dampak resesi 2023 mau ga?  1596139520529137665   \n",
       "3        Sekarang gw percaya 2023 resesi awoakwoakwk  1596138662915608577   \n",
       "4  Pasar fisik ketat - keseimbangan penawaran dan...  1596138572327030784   \n",
       "\n",
       "   followers_count  friends_count  statuses_count          location  \\\n",
       "0             3481           3231           51689               NaN   \n",
       "1              366            799           11254           jakarta   \n",
       "2              657            696             672               NaN   \n",
       "3              855            848           26756        ID-EN • 잘난   \n",
       "4             5398           4478           20760  PADANG,INDONESIA   \n",
       "\n",
       "   reply_count  retweet_count  like_count mentioned_user     score     label  \n",
       "0            0              0           0            NaN  0.994895   neutral  \n",
       "1            0              0           0       kumparan  0.913776  negative  \n",
       "2            0              0           0        LUNERPW  0.989647   neutral  \n",
       "3            0              0           0            NaN  0.880351  positive  \n",
       "4            1              0           0            NaN  0.972917  negative  "
      ]
     },
     "execution_count": 52,
     "metadata": {},
     "output_type": "execute_result"
    }
   ],
   "source": [
    "import pandas as pd\n",
    "dataset = pd.read_csv(r'C:\\Users\\rezae\\Kuliah\\Projek\\NLP\\Resesi\\NLP\\NLP\\resesi_labelled.csv')\n",
    "dataset.head()"
   ]
  },
  {
   "cell_type": "code",
   "execution_count": 5,
   "metadata": {},
   "outputs": [
    {
     "data": {
      "text/plain": [
       "69"
      ]
     },
     "execution_count": 5,
     "metadata": {},
     "output_type": "execute_result"
    }
   ],
   "source": [
    "dataset['retweet_count'].nunique()"
   ]
  },
  {
   "cell_type": "code",
   "execution_count": 4,
   "metadata": {},
   "outputs": [
    {
     "name": "stdout",
     "output_type": "stream",
     "text": [
      "Unique tweets: 9911\n",
      "All tweets: 10000\n"
     ]
    },
    {
     "data": {
      "text/plain": [
       "[Text(1, 0, 'Actual Tweets'), Text(2, 0, 'Retweets')]"
      ]
     },
     "execution_count": 4,
     "metadata": {},
     "output_type": "execute_result"
    },
    {
     "data": {
      "image/png": "[encoded data removed]",
      "text/plain": [
       "<Figure size 640x480 with 1 Axes>"
      ]
     },
     "metadata": {},
     "output_type": "display_data"
    }
   ],
   "source": [
    "print(\"Unique tweets: {}\".format(len(dataset['tweet'].unique())))\n",
    "print(\"All tweets: {}\".format(len(dataset['tweet'])))\n",
    "\n",
    "retweets = []\n",
    "actual_tweets = []\n",
    "for user, tweet in zip(dataset['user'], dataset['tweet']):\n",
    "    match = re.search(r'^\\bRT\\b', tweet)\n",
    "    if match == None:\n",
    "        actual_tweets.append([user,tweet])\n",
    "    else:\n",
    "        retweets.append([user,tweet])   \n",
    "\n",
    "actual_tweets = np.array(actual_tweets)\n",
    "retweets = np.array(retweets)\n",
    "\n",
    "plt.bar([1,2], [len(actual_tweets[:,1]), len(retweets[:,1])], align='center')\n",
    "ax = plt.gca()\n",
    "ax.set_xticks([1,2])\n",
    "ax.set_xticklabels(['Actual Tweets', 'Retweets'])"
   ]
  },
  {
   "cell_type": "code",
   "execution_count": 15,
   "metadata": {},
   "outputs": [
    {
     "data": {
      "text/plain": [
       "Text(0.5, 1.0, 'Mentioned vs. Total in tweets.csv')"
      ]
     },
     "execution_count": 15,
     "metadata": {},
     "output_type": "execute_result"
    },
    {
     "data": {
      "image/png": "[encoded data removed]",
      "text/plain": [
       "<Figure size 640x480 with 2 Axes>"
      ]
     },
     "metadata": {},
     "output_type": "display_data"
    }
   ],
   "source": [
    "in_set = []\n",
    "not_in_set = []\n",
    "for record in actual_tweets:\n",
    "    match = re.findall(r'@\\w*', record[1])\n",
    "    if match != []:\n",
    "        for name in match:\n",
    "            if (name[1:] in dataset['user'].unique()) and (record[0] != name[1:]):\n",
    "                in_set.append([record[0], name[1:]])\n",
    "            elif record[0] != name[1:]:\n",
    "                not_in_set.append([record[0], name[1:]])\n",
    "\n",
    "in_set = np.array(in_set)\n",
    "not_in_set = np.array(not_in_set)\n",
    "\n",
    "fig, ax = plt.subplots(1,2)\n",
    "\n",
    "ax[0].bar([1,2], [len(np.unique(in_set[:,1])), len(np.unique(not_in_set[:,1]))], align='center')\n",
    "ax[0].set_xticks([1,2])\n",
    "ax[0].set_xticklabels(['In', 'Not in'])\n",
    "ax[0].set_title('Users in vs. not in tweets.csv', fontsize=9)\n",
    "\n",
    "ax[1].bar([1,2], [len(np.unique(in_set[:,1])), len(dataset['user'].unique())], align='center')\n",
    "ax[1].set_xticks([1,2])\n",
    "ax[1].set_xticklabels(['Mentioned', 'Total'])\n",
    "ax[1].set_title('Mentioned vs. Total in tweets.csv', fontsize=9)"
   ]
  },
  {
   "cell_type": "code",
   "execution_count": 16,
   "metadata": {},
   "outputs": [
    {
     "name": "stdout",
     "output_type": "stream",
     "text": [
      "[('_SEKNAS_RI', 22), ('surya0377', 18), ('Grivod', 12), ('KuroKaitou', 10), ('arifinpribadi', 10)]\n",
      "[('jokowi', 133), ('worksfess', 119), ('CNNIndonesia', 84), ('Askrlfess', 55), ('detikcom', 55)]\n"
     ]
    }
   ],
   "source": [
    "sender_count = Counter(in_set[:,0])\n",
    "receiver_count = Counter(in_set[:,1])\n",
    "top_5_senders = sender_count.most_common(5)\n",
    "top_5_receivers = receiver_count.most_common(5)\n",
    "\n",
    "print(top_5_senders)\n",
    "print(top_5_receivers)"
   ]
  },
  {
   "cell_type": "code",
   "execution_count": 20,
   "metadata": {},
   "outputs": [
    {
     "name": "stdout",
     "output_type": "stream",
     "text": [
      "Username: jokowi - neutral\n",
      "\n",
      "Username: worksfess - negative\n",
      "\n",
      "Username: CNNIndonesia - neutral\n",
      "\n",
      "Username: Askrlfess - neutral\n",
      "\n",
      "Username: detikcom - neutral\n",
      "\n"
     ]
    }
   ],
   "source": [
    "for name, _ in top_5_receivers:\n",
    "    print(\"Username: {} - {}\\n\".format(name,\n",
    "            dataset[dataset['user'] == name]['label'].dropna().unique()[0]))"
   ]
  },
  {
   "cell_type": "code",
   "execution_count": 21,
   "metadata": {},
   "outputs": [],
   "source": [
    "graph = nx.Graph()\n",
    "\n",
    "all_users = list(set(in_set[:,0]) | set(in_set[:,1]))\n",
    "graph.add_nodes_from(all_users, count=10)\n",
    "node_colours = []\n",
    "\n",
    "for node in graph.nodes():\n",
    "    if node in (set(in_set[:,0]) & set(in_set[:,1])):\n",
    "        node_colours.append('g')\n",
    "    elif node in np.unique(in_set[:,0]):\n",
    "        node_colours.append('r')\n",
    "    elif node in np.unique(in_set[:,1]):\n",
    "        node_colours.append('b')"
   ]
  },
  {
   "cell_type": "code",
   "execution_count": 27,
   "metadata": {},
   "outputs": [],
   "source": [
    "\n",
    "# edges = {}\n",
    "# occurrence_count = Counter(map(tuple, in_set))\n",
    "# for (sender, receiver), count in occurrence_count.items():\n",
    "#     if (receiver, sender) in edges.keys():\n",
    "#         edges[(receiver, sender)] = edges[(receiver, sender)] + count\n",
    "#     else:\n",
    "#         edges[(sender, receiver)] = count\n",
    "        \n",
    "# for (sender, receiver), count in edges.items():\n",
    "#     graph.add_edge(sender, receiver, weight=count)\n",
    "    \n",
    "# followers = {}\n",
    "# tweet_num = {}\n",
    "# for user in all_users:\n",
    "#     followers[user] = dataset[dataset['user'] == user]['mentioned_user'].unique()[-1]\n",
    "#     tweet_num[user] = dataset[dataset['user'] == user]['tweet'].count()\n",
    "\n",
    "# sizes = [(followers[n] / tweet_num[n]) * 10 for n in graph.nodes()]\n",
    "# weights = [graph.edge[u][v]['weight']/2 for u, v in graph.edges()]\n",
    "\n",
    "# plt.figure(figsize=(12,12))\n",
    "# nx.draw(graph, pos=nx.spring_layout(graph),\n",
    "#         node_color=node_colours, with_labels=True, width=weights)\n",
    "# plt.show()"
   ]
  },
  {
   "cell_type": "code",
   "execution_count": 30,
   "metadata": {},
   "outputs": [
    {
     "data": {
      "text/html": [
       "<div>\n",
       "<style scoped>\n",
       "    .dataframe tbody tr th:only-of-type {\n",
       "        vertical-align: middle;\n",
       "    }\n",
       "\n",
       "    .dataframe tbody tr th {\n",
       "        vertical-align: top;\n",
       "    }\n",
       "\n",
       "    .dataframe thead th {\n",
       "        text-align: right;\n",
       "    }\n",
       "</style>\n",
       "<table border=\"1\" class=\"dataframe\">\n",
       "  <thead>\n",
       "    <tr style=\"text-align: right;\">\n",
       "      <th></th>\n",
       "      <th>Unnamed: 0</th>\n",
       "      <th>url</th>\n",
       "      <th>date</th>\n",
       "      <th>user</th>\n",
       "      <th>tweet</th>\n",
       "      <th>tweet_id</th>\n",
       "      <th>followers_count</th>\n",
       "      <th>friends_count</th>\n",
       "      <th>statuses_count</th>\n",
       "      <th>location</th>\n",
       "      <th>reply_count</th>\n",
       "      <th>retweet_count</th>\n",
       "      <th>like_count</th>\n",
       "      <th>mentioned_user</th>\n",
       "      <th>score</th>\n",
       "      <th>label</th>\n",
       "    </tr>\n",
       "  </thead>\n",
       "  <tbody>\n",
       "    <tr>\n",
       "      <th>0</th>\n",
       "      <td>0</td>\n",
       "      <td>https://twitter.com/junoakita2/status/15961425...</td>\n",
       "      <td>2022-11-25 14:03:43+00:00</td>\n",
       "      <td>junoakita2</td>\n",
       "      <td>Kalahkan resesi, Binance!\\n#Pemenang #Binance ...</td>\n",
       "      <td>1596142589970784256</td>\n",
       "      <td>3481</td>\n",
       "      <td>3231</td>\n",
       "      <td>51689</td>\n",
       "      <td>NaN</td>\n",
       "      <td>0</td>\n",
       "      <td>0</td>\n",
       "      <td>0</td>\n",
       "      <td>NaN</td>\n",
       "      <td>0.994895</td>\n",
       "      <td>neutral</td>\n",
       "    </tr>\n",
       "    <tr>\n",
       "      <th>1</th>\n",
       "      <td>1</td>\n",
       "      <td>https://twitter.com/ghazellow/status/159614137...</td>\n",
       "      <td>2022-11-25 13:58:53+00:00</td>\n",
       "      <td>ghazellow</td>\n",
       "      <td>@kumparan Wahhhh pak, nggak di ralat apa. \\n\\n...</td>\n",
       "      <td>1596141374906060801</td>\n",
       "      <td>366</td>\n",
       "      <td>799</td>\n",
       "      <td>11254</td>\n",
       "      <td>jakarta</td>\n",
       "      <td>0</td>\n",
       "      <td>0</td>\n",
       "      <td>0</td>\n",
       "      <td>kumparan</td>\n",
       "      <td>0.913776</td>\n",
       "      <td>negative</td>\n",
       "    </tr>\n",
       "    <tr>\n",
       "      <th>2</th>\n",
       "      <td>2</td>\n",
       "      <td>https://twitter.com/leesoheey/status/159613952...</td>\n",
       "      <td>2022-11-25 13:51:31+00:00</td>\n",
       "      <td>leesoheey</td>\n",
       "      <td>@LUNERPW ngobrolin dampak resesi 2023 mau ga?</td>\n",
       "      <td>1596139520529137665</td>\n",
       "      <td>657</td>\n",
       "      <td>696</td>\n",
       "      <td>672</td>\n",
       "      <td>NaN</td>\n",
       "      <td>0</td>\n",
       "      <td>0</td>\n",
       "      <td>0</td>\n",
       "      <td>LUNERPW</td>\n",
       "      <td>0.989647</td>\n",
       "      <td>neutral</td>\n",
       "    </tr>\n",
       "    <tr>\n",
       "      <th>3</th>\n",
       "      <td>3</td>\n",
       "      <td>https://twitter.com/heelyhs/status/15961386629...</td>\n",
       "      <td>2022-11-25 13:48:06+00:00</td>\n",
       "      <td>heelyhs</td>\n",
       "      <td>Sekarang gw percaya 2023 resesi awoakwoakwk</td>\n",
       "      <td>1596138662915608577</td>\n",
       "      <td>855</td>\n",
       "      <td>848</td>\n",
       "      <td>26756</td>\n",
       "      <td>ID-EN • 잘난</td>\n",
       "      <td>0</td>\n",
       "      <td>0</td>\n",
       "      <td>0</td>\n",
       "      <td>NaN</td>\n",
       "      <td>0.880351</td>\n",
       "      <td>positive</td>\n",
       "    </tr>\n",
       "    <tr>\n",
       "      <th>4</th>\n",
       "      <td>4</td>\n",
       "      <td>https://twitter.com/bdleonanda/status/15961385...</td>\n",
       "      <td>2022-11-25 13:47:45+00:00</td>\n",
       "      <td>bdleonanda</td>\n",
       "      <td>Pasar fisik ketat - keseimbangan penawaran dan...</td>\n",
       "      <td>1596138572327030784</td>\n",
       "      <td>5398</td>\n",
       "      <td>4478</td>\n",
       "      <td>20760</td>\n",
       "      <td>PADANG,INDONESIA</td>\n",
       "      <td>1</td>\n",
       "      <td>0</td>\n",
       "      <td>0</td>\n",
       "      <td>NaN</td>\n",
       "      <td>0.972917</td>\n",
       "      <td>negative</td>\n",
       "    </tr>\n",
       "  </tbody>\n",
       "</table>\n",
       "</div>"
      ],
      "text/plain": [
       "   Unnamed: 0                                                url  \\\n",
       "0           0  https://twitter.com/junoakita2/status/15961425...   \n",
       "1           1  https://twitter.com/ghazellow/status/159614137...   \n",
       "2           2  https://twitter.com/leesoheey/status/159613952...   \n",
       "3           3  https://twitter.com/heelyhs/status/15961386629...   \n",
       "4           4  https://twitter.com/bdleonanda/status/15961385...   \n",
       "\n",
       "                        date        user  \\\n",
       "0  2022-11-25 14:03:43+00:00  junoakita2   \n",
       "1  2022-11-25 13:58:53+00:00   ghazellow   \n",
       "2  2022-11-25 13:51:31+00:00   leesoheey   \n",
       "3  2022-11-25 13:48:06+00:00     heelyhs   \n",
       "4  2022-11-25 13:47:45+00:00  bdleonanda   \n",
       "\n",
       "                                               tweet             tweet_id  \\\n",
       "0  Kalahkan resesi, Binance!\\n#Pemenang #Binance ...  1596142589970784256   \n",
       "1  @kumparan Wahhhh pak, nggak di ralat apa. \\n\\n...  1596141374906060801   \n",
       "2      @LUNERPW ngobrolin dampak resesi 2023 mau ga?  1596139520529137665   \n",
       "3        Sekarang gw percaya 2023 resesi awoakwoakwk  1596138662915608577   \n",
       "4  Pasar fisik ketat - keseimbangan penawaran dan...  1596138572327030784   \n",
       "\n",
       "   followers_count  friends_count  statuses_count          location  \\\n",
       "0             3481           3231           51689               NaN   \n",
       "1              366            799           11254           jakarta   \n",
       "2              657            696             672               NaN   \n",
       "3              855            848           26756        ID-EN • 잘난   \n",
       "4             5398           4478           20760  PADANG,INDONESIA   \n",
       "\n",
       "   reply_count  retweet_count  like_count mentioned_user     score     label  \n",
       "0            0              0           0            NaN  0.994895   neutral  \n",
       "1            0              0           0       kumparan  0.913776  negative  \n",
       "2            0              0           0        LUNERPW  0.989647   neutral  \n",
       "3            0              0           0            NaN  0.880351  positive  \n",
       "4            1              0           0            NaN  0.972917  negative  "
      ]
     },
     "execution_count": 30,
     "metadata": {},
     "output_type": "execute_result"
    }
   ],
   "source": [
    "dataset.head()"
   ]
  },
  {
   "cell_type": "code",
   "execution_count": 162,
   "metadata": {},
   "outputs": [
    {
     "data": {
      "text/plain": [
       "141"
      ]
     },
     "execution_count": 162,
     "metadata": {},
     "output_type": "execute_result"
    }
   ],
   "source": [
    "dataset['ct'].nunique()"
   ]
  },
  {
   "cell_type": "code",
   "execution_count": 287,
   "metadata": {},
   "outputs": [
    {
     "data": {
      "text/html": [
       "<div>\n",
       "<style scoped>\n",
       "    .dataframe tbody tr th:only-of-type {\n",
       "        vertical-align: middle;\n",
       "    }\n",
       "\n",
       "    .dataframe tbody tr th {\n",
       "        vertical-align: top;\n",
       "    }\n",
       "\n",
       "    .dataframe thead th {\n",
       "        text-align: right;\n",
       "    }\n",
       "</style>\n",
       "<table border=\"1\" class=\"dataframe\">\n",
       "  <thead>\n",
       "    <tr style=\"text-align: right;\">\n",
       "      <th></th>\n",
       "      <th>user</th>\n",
       "      <th>mentioned_user</th>\n",
       "    </tr>\n",
       "  </thead>\n",
       "  <tbody>\n",
       "    <tr>\n",
       "      <th>1</th>\n",
       "      <td>ghazellow</td>\n",
       "      <td>kumparan</td>\n",
       "    </tr>\n",
       "    <tr>\n",
       "      <th>12</th>\n",
       "      <td>kwahyuf</td>\n",
       "      <td>sbyfess</td>\n",
       "    </tr>\n",
       "    <tr>\n",
       "      <th>15</th>\n",
       "      <td>71cakes</td>\n",
       "      <td>sangyawnz</td>\n",
       "    </tr>\n",
       "    <tr>\n",
       "      <th>18</th>\n",
       "      <td>vitaradoang</td>\n",
       "      <td>VitriDiGiovanni</td>\n",
       "    </tr>\n",
       "    <tr>\n",
       "      <th>22</th>\n",
       "      <td>DeckyYM</td>\n",
       "      <td>kumparan</td>\n",
       "    </tr>\n",
       "    <tr>\n",
       "      <th>...</th>\n",
       "      <td>...</td>\n",
       "      <td>...</td>\n",
       "    </tr>\n",
       "    <tr>\n",
       "      <th>9983</th>\n",
       "      <td>sugandi_h24</td>\n",
       "      <td>idhumhii</td>\n",
       "    </tr>\n",
       "    <tr>\n",
       "      <th>9984</th>\n",
       "      <td>ahmadkhabib</td>\n",
       "      <td>Lewandowskyyyy</td>\n",
       "    </tr>\n",
       "    <tr>\n",
       "      <th>9986</th>\n",
       "      <td>Bos_Boscang</td>\n",
       "      <td>Retiremyass</td>\n",
       "    </tr>\n",
       "    <tr>\n",
       "      <th>9992</th>\n",
       "      <td>jfgltm</td>\n",
       "      <td>HukumDan</td>\n",
       "    </tr>\n",
       "    <tr>\n",
       "      <th>9997</th>\n",
       "      <td>NaN</td>\n",
       "      <td>xxxxxWohHook</td>\n",
       "    </tr>\n",
       "  </tbody>\n",
       "</table>\n",
       "<p>2026 rows × 2 columns</p>\n",
       "</div>"
      ],
      "text/plain": [
       "             user   mentioned_user\n",
       "1       ghazellow         kumparan\n",
       "12        kwahyuf          sbyfess\n",
       "15        71cakes        sangyawnz\n",
       "18    vitaradoang  VitriDiGiovanni\n",
       "22        DeckyYM         kumparan\n",
       "...           ...              ...\n",
       "9983  sugandi_h24         idhumhii\n",
       "9984  ahmadkhabib   Lewandowskyyyy\n",
       "9986  Bos_Boscang      Retiremyass\n",
       "9992       jfgltm         HukumDan\n",
       "9997          NaN     xxxxxWohHook\n",
       "\n",
       "[2026 rows x 2 columns]"
      ]
     },
     "execution_count": 287,
     "metadata": {},
     "output_type": "execute_result"
    }
   ],
   "source": [
    "df=dataset[['user', 'mentioned_user']]\n",
    "df"
   ]
  },
  {
   "cell_type": "code",
   "execution_count": 285,
   "metadata": {},
   "outputs": [
    {
     "data": {
      "text/plain": [
       "mentioned_user    1255\n",
       "ct                  24\n",
       "user                22\n",
       "dtype: int64"
      ]
     },
     "execution_count": 285,
     "metadata": {},
     "output_type": "execute_result"
    }
   ],
   "source": [
    "ctdf = (df.reset_index()\n",
    "          .groupby(['mentioned_user'], as_index=False)\n",
    "          .count()\n",
    "          # rename isn't strictly necessary here, it's just for readability\n",
    "          .rename(columns={'index':'ct'})\n",
    "       )\n",
    "ctdf.nunique()"
   ]
  },
  {
   "cell_type": "code",
   "execution_count": 290,
   "metadata": {},
   "outputs": [
    {
     "data": {
      "text/html": [
       "<div>\n",
       "<style scoped>\n",
       "    .dataframe tbody tr th:only-of-type {\n",
       "        vertical-align: middle;\n",
       "    }\n",
       "\n",
       "    .dataframe tbody tr th {\n",
       "        vertical-align: top;\n",
       "    }\n",
       "\n",
       "    .dataframe thead th {\n",
       "        text-align: right;\n",
       "    }\n",
       "</style>\n",
       "<table border=\"1\" class=\"dataframe\">\n",
       "  <thead>\n",
       "    <tr style=\"text-align: right;\">\n",
       "      <th></th>\n",
       "      <th>user</th>\n",
       "      <th>mentioned_user</th>\n",
       "      <th>ct</th>\n",
       "    </tr>\n",
       "  </thead>\n",
       "  <tbody>\n",
       "    <tr>\n",
       "      <th>16</th>\n",
       "      <td>0</td>\n",
       "      <td>CiervoOfficial</td>\n",
       "      <td>2</td>\n",
       "    </tr>\n",
       "    <tr>\n",
       "      <th>33</th>\n",
       "      <td>0</td>\n",
       "      <td>Leonita_Lestari</td>\n",
       "      <td>2</td>\n",
       "    </tr>\n",
       "    <tr>\n",
       "      <th>36</th>\n",
       "      <td>0</td>\n",
       "      <td>MrJenus</td>\n",
       "      <td>3</td>\n",
       "    </tr>\n",
       "    <tr>\n",
       "      <th>48</th>\n",
       "      <td>0</td>\n",
       "      <td>ScottLEOWarrior</td>\n",
       "      <td>2</td>\n",
       "    </tr>\n",
       "    <tr>\n",
       "      <th>62</th>\n",
       "      <td>0</td>\n",
       "      <td>_SATUMEJA</td>\n",
       "      <td>2</td>\n",
       "    </tr>\n",
       "    <tr>\n",
       "      <th>...</th>\n",
       "      <td>...</td>\n",
       "      <td>...</td>\n",
       "      <td>...</td>\n",
       "    </tr>\n",
       "    <tr>\n",
       "      <th>1250</th>\n",
       "      <td>28</td>\n",
       "      <td>Askrlfess</td>\n",
       "      <td>28</td>\n",
       "    </tr>\n",
       "    <tr>\n",
       "      <th>1251</th>\n",
       "      <td>28</td>\n",
       "      <td>idextratime</td>\n",
       "      <td>30</td>\n",
       "    </tr>\n",
       "    <tr>\n",
       "      <th>1252</th>\n",
       "      <td>32</td>\n",
       "      <td>worksfess</td>\n",
       "      <td>35</td>\n",
       "    </tr>\n",
       "    <tr>\n",
       "      <th>1253</th>\n",
       "      <td>35</td>\n",
       "      <td>jokowi</td>\n",
       "      <td>44</td>\n",
       "    </tr>\n",
       "    <tr>\n",
       "      <th>1254</th>\n",
       "      <td>41</td>\n",
       "      <td>CNNIndonesia</td>\n",
       "      <td>45</td>\n",
       "    </tr>\n",
       "  </tbody>\n",
       "</table>\n",
       "<p>203 rows × 3 columns</p>\n",
       "</div>"
      ],
      "text/plain": [
       "      user   mentioned_user  ct\n",
       "16       0   CiervoOfficial   2\n",
       "33       0  Leonita_Lestari   2\n",
       "36       0          MrJenus   3\n",
       "48       0  ScottLEOWarrior   2\n",
       "62       0        _SATUMEJA   2\n",
       "...    ...              ...  ..\n",
       "1250    28        Askrlfess  28\n",
       "1251    28      idextratime  30\n",
       "1252    32        worksfess  35\n",
       "1253    35           jokowi  44\n",
       "1254    41     CNNIndonesia  45\n",
       "\n",
       "[203 rows x 3 columns]"
      ]
     },
     "execution_count": 290,
     "metadata": {},
     "output_type": "execute_result"
    }
   ],
   "source": [
    "edges = ctdf.groupby(['user','mentioned_user']).agg({'ct':'sum'}).reset_index().query('ct > 1')\n",
    "edges"
   ]
  },
  {
   "cell_type": "code",
   "execution_count": 218,
   "metadata": {},
   "outputs": [],
   "source": [
    "# edges = edges.sort_values('mentioned_user',ascending=False).head().query(('ct > 10'))\n",
    "# edges"
   ]
  },
  {
   "cell_type": "code",
   "execution_count": 292,
   "metadata": {},
   "outputs": [],
   "source": [
    "GOT = nx.from_pandas_edgelist(edges, \n",
    "                            source='user',\n",
    "                            target='mentioned_user',\n",
    "                            edge_attr='ct' )"
   ]
  },
  {
   "cell_type": "code",
   "execution_count": 293,
   "metadata": {},
   "outputs": [
    {
     "name": "stdout",
     "output_type": "stream",
     "text": [
      "Graph with 225 nodes and 203 edges\n"
     ]
    },
    {
     "name": "stderr",
     "output_type": "stream",
     "text": [
      "C:\\Users\\rezae\\AppData\\Local\\Temp\\ipykernel_7368\\3832438627.py:1: DeprecationWarning: info is deprecated and will be removed in version 3.0.\n",
      "\n",
      "  print(nx.info(GOT))\n"
     ]
    }
   ],
   "source": [
    "print(nx.info(GOT))"
   ]
  },
  {
   "cell_type": "code",
   "execution_count": 294,
   "metadata": {},
   "outputs": [],
   "source": [
    "\n",
    "weighted_degrees = dict(nx.degree(GOT,weight='ct'))\n",
    "max_degree = max(weighted_degrees.values())"
   ]
  },
  {
   "cell_type": "code",
   "execution_count": 295,
   "metadata": {},
   "outputs": [
    {
     "data": {
      "image/png": "[encoded data removed]",
      "text/plain": [
       "<Figure size 640x480 with 1 Axes>"
      ]
     },
     "metadata": {},
     "output_type": "display_data"
    }
   ],
   "source": [
    "h = plt.hist(weighted_degrees.values(), bins = 30)"
   ]
  },
  {
   "cell_type": "code",
   "execution_count": 296,
   "metadata": {},
   "outputs": [],
   "source": [
    "subG = GOT.subgraph([n for n in weighted_degrees if weighted_degrees[n]>10])\n"
   ]
  },
  {
   "cell_type": "code",
   "execution_count": 297,
   "metadata": {},
   "outputs": [
    {
     "name": "stdout",
     "output_type": "stream",
     "text": [
      "Graph with 41 nodes and 19 edges\n"
     ]
    },
    {
     "name": "stderr",
     "output_type": "stream",
     "text": [
      "C:\\Users\\rezae\\AppData\\Local\\Temp\\ipykernel_7368\\2083595058.py:1: DeprecationWarning: info is deprecated and will be removed in version 3.0.\n",
      "\n",
      "  print(nx.info(subG))\n"
     ]
    }
   ],
   "source": [
    "print(nx.info(subG))\n"
   ]
  },
  {
   "cell_type": "code",
   "execution_count": 299,
   "metadata": {},
   "outputs": [],
   "source": [
    "pos = nx.spring_layout(subG,weight='ct',iterations=20, k = 4)"
   ]
  },
  {
   "cell_type": "code",
   "execution_count": 300,
   "metadata": {},
   "outputs": [
    {
     "ename": "AttributeError",
     "evalue": "'int' object has no attribute 'replace'",
     "output_type": "error",
     "traceback": [
      "\u001b[1;31m---------------------------------------------------------------------------\u001b[0m",
      "\u001b[1;31mAttributeError\u001b[0m                            Traceback (most recent call last)",
      "Cell \u001b[1;32mIn [300], line 11\u001b[0m\n\u001b[0;32m      8\u001b[0m     ns \u001b[39m=\u001b[39m nx\u001b[39m.\u001b[39mdraw_networkx_nodes(subG,pos,nodelist\u001b[39m=\u001b[39m[node], node_size\u001b[39m=\u001b[39msize, node_color\u001b[39m=\u001b[39m\u001b[39m'\u001b[39m\u001b[39m#009fe3\u001b[39m\u001b[39m'\u001b[39m)\n\u001b[0;32m      9\u001b[0m     ns\u001b[39m.\u001b[39mset_edgecolor(\u001b[39m'\u001b[39m\u001b[39m#f2f6fa\u001b[39m\u001b[39m'\u001b[39m)\n\u001b[1;32m---> 11\u001b[0m nx\u001b[39m.\u001b[39mdraw_networkx_labels(subG,pos,{n:n\u001b[39m.\u001b[39mreplace(\u001b[39m'\u001b[39m\u001b[39m-\u001b[39m\u001b[39m'\u001b[39m,\u001b[39m'\u001b[39m\u001b[39m\\n\u001b[39;00m\u001b[39m'\u001b[39m) \u001b[39mfor\u001b[39;00m n \u001b[39min\u001b[39;00m subG\u001b[39m.\u001b[39mnodes() \u001b[39mif\u001b[39;00m weighted_degrees[n]\u001b[39m>\u001b[39m\u001b[39m10\u001b[39m},font_size\u001b[39m=\u001b[39m\u001b[39m10\u001b[39m);\n\u001b[0;32m     13\u001b[0m \u001b[39mfor\u001b[39;00m e \u001b[39min\u001b[39;00m subG\u001b[39m.\u001b[39medges(data\u001b[39m=\u001b[39m\u001b[39mTrue\u001b[39;00m):\n\u001b[0;32m     14\u001b[0m     \u001b[39mif\u001b[39;00m e[\u001b[39m2\u001b[39m][\u001b[39m'\u001b[39m\u001b[39mct\u001b[39m\u001b[39m'\u001b[39m]\u001b[39m>\u001b[39m\u001b[39m10\u001b[39m:\n",
      "Cell \u001b[1;32mIn [300], line 11\u001b[0m, in \u001b[0;36m<dictcomp>\u001b[1;34m(.0)\u001b[0m\n\u001b[0;32m      8\u001b[0m     ns \u001b[39m=\u001b[39m nx\u001b[39m.\u001b[39mdraw_networkx_nodes(subG,pos,nodelist\u001b[39m=\u001b[39m[node], node_size\u001b[39m=\u001b[39msize, node_color\u001b[39m=\u001b[39m\u001b[39m'\u001b[39m\u001b[39m#009fe3\u001b[39m\u001b[39m'\u001b[39m)\n\u001b[0;32m      9\u001b[0m     ns\u001b[39m.\u001b[39mset_edgecolor(\u001b[39m'\u001b[39m\u001b[39m#f2f6fa\u001b[39m\u001b[39m'\u001b[39m)\n\u001b[1;32m---> 11\u001b[0m nx\u001b[39m.\u001b[39mdraw_networkx_labels(subG,pos,{n:n\u001b[39m.\u001b[39;49mreplace(\u001b[39m'\u001b[39m\u001b[39m-\u001b[39m\u001b[39m'\u001b[39m,\u001b[39m'\u001b[39m\u001b[39m\\n\u001b[39;00m\u001b[39m'\u001b[39m) \u001b[39mfor\u001b[39;00m n \u001b[39min\u001b[39;00m subG\u001b[39m.\u001b[39mnodes() \u001b[39mif\u001b[39;00m weighted_degrees[n]\u001b[39m>\u001b[39m\u001b[39m10\u001b[39m},font_size\u001b[39m=\u001b[39m\u001b[39m10\u001b[39m);\n\u001b[0;32m     13\u001b[0m \u001b[39mfor\u001b[39;00m e \u001b[39min\u001b[39;00m subG\u001b[39m.\u001b[39medges(data\u001b[39m=\u001b[39m\u001b[39mTrue\u001b[39;00m):\n\u001b[0;32m     14\u001b[0m     \u001b[39mif\u001b[39;00m e[\u001b[39m2\u001b[39m][\u001b[39m'\u001b[39m\u001b[39mct\u001b[39m\u001b[39m'\u001b[39m]\u001b[39m>\u001b[39m\u001b[39m10\u001b[39m:\n",
      "\u001b[1;31mAttributeError\u001b[0m: 'int' object has no attribute 'replace'"
     ]
    },
    {
     "data": {
      "image/png": "[encoded data removed]",
      "text/plain": [
       "<Figure size 640x480 with 1 Axes>"
      ]
     },
     "metadata": {},
     "output_type": "display_data"
    },
    {
     "data": {
      "image/png": "[encoded data removed]",
      "text/plain": [
       "<Figure size 1500x1500 with 1 Axes>"
      ]
     },
     "metadata": {},
     "output_type": "display_data"
    }
   ],
   "source": [
    "\n",
    "plt.axis('off')\n",
    "plt.title('Game of Thrones Network',fontsize = 10)\n",
    "plt.figure(figsize=(15, 15))\n",
    "\n",
    "\n",
    "for node in subG.nodes():\n",
    "    size = 20*weighted_degrees[node]**0.5\n",
    "    ns = nx.draw_networkx_nodes(subG,pos,nodelist=[node], node_size=size, node_color='#009fe3')\n",
    "    ns.set_edgecolor('#f2f6fa')\n",
    "\n",
    "nx.draw_networkx_labels(subG,pos,{n:n.replace('-','\\n') for n in subG.nodes() if weighted_degrees[n]>10},font_size=10);\n",
    "\n",
    "for e in subG.edges(data=True):\n",
    "    if e[2]['ct']>10:\n",
    "        nx.draw_networkx_edges(subG,pos,[e],width=e[2]['ct']/100,edge_color='#707070')"
   ]
  },
  {
   "cell_type": "code",
   "execution_count": 227,
   "metadata": {},
   "outputs": [],
   "source": [
    "\n",
    "infection_times = {}"
   ]
  },
  {
   "cell_type": "code",
   "execution_count": 228,
   "metadata": {},
   "outputs": [],
   "source": [
    "def independent_cascade(G,t,infection_times):\n",
    "    #doing a t->t+1 step of independent_cascade simulation\n",
    "    #each infectious node infects neigbors with probabilty proportional to the weight\n",
    "    max_weight = max([e[2]['ct'] for e in G.edges(data=True)])\n",
    "    current_infectious = [n for n in infection_times if infection_times[n]==t]\n",
    "    for n in current_infectious:\n",
    "        for v in G.neighbors(n):\n",
    "            if v not in infection_times:\n",
    "                if  G.get_edge_data(n,v)['ct'] >= np.random.random()*max_weight:\n",
    "                    infection_times[v] = t+1\n",
    "    return infection_times"
   ]
  },
  {
   "cell_type": "code",
   "execution_count": 234,
   "metadata": {},
   "outputs": [],
   "source": [
    "\n",
    "\n",
    "def plot_G(G,pos,infection_times,t):\n",
    "    current_infectious = [n for n in infection_times if infection_times[n]==t]\n",
    "    plt.figure(figsize=(15, 15))\n",
    "    plt.axis('off')\n",
    "    plt.title('Game of Thrones Network, t={}'.format(t),fontsize = 15)\n",
    "\n",
    "    for node in G.nodes():\n",
    "        size = 100*weighted_degrees[node]**0.5\n",
    "        if node in current_infectious:\n",
    "            ns = nx.draw_networkx_nodes(G,pos,nodelist=[node], node_size=size, node_color='#feba02')\n",
    "        elif infection_times.get(node,9999999)<t:\n",
    "            ns = nx.draw_networkx_nodes(G,pos,nodelist=[node], node_size=size, node_color='#f2f6fa')\n",
    "        else:\n",
    "            ns = nx.draw_networkx_nodes(G,pos,nodelist=[node], node_size=size, node_color='#009fe3')\n",
    "        ns.set_edgecolor('#f2f6fa')\n",
    "    nx.draw_networkx_labels(G,pos,{n:n.replace('-','\\n') for n in G.nodes() if weighted_degrees[n]>100},font_size=10);\n",
    "\n",
    "    for e in G.edges(data=True):\n",
    "        if e[2]['ct']>10:\n",
    "            nx.draw_networkx_edges(G,pos,[e],width=e[2]['ct']/100,edge_color='#707070')"
   ]
  },
  {
   "cell_type": "code",
   "execution_count": 235,
   "metadata": {},
   "outputs": [],
   "source": [
    "infection_times = {'CNNIndonesia':-1,'jokowi':-1,'puanmaharani_ri':0}\n"
   ]
  },
  {
   "cell_type": "code",
   "execution_count": 237,
   "metadata": {},
   "outputs": [],
   "source": [
    "# for t in range(10):\n",
    "#     plot_G(subG,pos,infection_times,t)\n",
    "#     infection_times = independent_cascade(subG,t,infection_times)"
   ]
  },
  {
   "cell_type": "code",
   "execution_count": 269,
   "metadata": {},
   "outputs": [
    {
     "ename": "TypeError",
     "evalue": "'_AxesStack' object is not callable",
     "output_type": "error",
     "traceback": [
      "\u001b[1;31m---------------------------------------------------------------------------\u001b[0m",
      "\u001b[1;31mTypeError\u001b[0m                                 Traceback (most recent call last)",
      "Cell \u001b[1;32mIn [269], line 11\u001b[0m\n\u001b[0;32m      9\u001b[0m     \u001b[39mfor\u001b[39;00m user \u001b[39min\u001b[39;00m r[\u001b[39m1\u001b[39m][\u001b[39m'\u001b[39m\u001b[39msplitted_users\u001b[39m\u001b[39m'\u001b[39m]:\n\u001b[0;32m     10\u001b[0m         G\u001b[39m.\u001b[39madd_edge(r[\u001b[39m1\u001b[39m][\u001b[39m'\u001b[39m\u001b[39muser\u001b[39m\u001b[39m'\u001b[39m], user)\n\u001b[1;32m---> 11\u001b[0m nx\u001b[39m.\u001b[39;49mdraw(G, with_labels\u001b[39m=\u001b[39;49m\u001b[39mFalse\u001b[39;49;00m)\n",
      "File \u001b[1;32mc:\\Users\\rezae\\anaconda3\\lib\\site-packages\\networkx\\drawing\\nx_pylab.py:113\u001b[0m, in \u001b[0;36mdraw\u001b[1;34m(G, pos, ax, **kwds)\u001b[0m\n\u001b[0;32m    111\u001b[0m cf\u001b[39m.\u001b[39mset_facecolor(\u001b[39m\"\u001b[39m\u001b[39mw\u001b[39m\u001b[39m\"\u001b[39m)\n\u001b[0;32m    112\u001b[0m \u001b[39mif\u001b[39;00m ax \u001b[39mis\u001b[39;00m \u001b[39mNone\u001b[39;00m:\n\u001b[1;32m--> 113\u001b[0m     \u001b[39mif\u001b[39;00m cf\u001b[39m.\u001b[39;49m_axstack() \u001b[39mis\u001b[39;00m \u001b[39mNone\u001b[39;00m:\n\u001b[0;32m    114\u001b[0m         ax \u001b[39m=\u001b[39m cf\u001b[39m.\u001b[39madd_axes((\u001b[39m0\u001b[39m, \u001b[39m0\u001b[39m, \u001b[39m1\u001b[39m, \u001b[39m1\u001b[39m))\n\u001b[0;32m    115\u001b[0m     \u001b[39melse\u001b[39;00m:\n",
      "\u001b[1;31mTypeError\u001b[0m: '_AxesStack' object is not callable"
     ]
    },
    {
     "data": {
      "text/plain": [
       "<Figure size 640x480 with 0 Axes>"
      ]
     },
     "metadata": {},
     "output_type": "display_data"
    }
   ],
   "source": [
    "df = pd.DataFrame({\n",
    "    'user':dataset['user'],\n",
    "    'mentioned_user':dataset['mentioned_user']\n",
    "})\n",
    "df['splitted_users'] = df['mentioned_user'].apply(lambda x: x.split(','))\n",
    "\n",
    "G = nx.DiGraph()\n",
    "for r in df.iterrows():\n",
    "    for user in r[1]['splitted_users']:\n",
    "        G.add_edge(r[1]['user'], user)\n",
    "nx.draw(G, with_labels=True)"
   ]
  }
 ],
 "metadata": {
  "kernelspec": {
   "display_name": "base",
   "language": "python",
   "name": "python3"
  },
  "language_info": {
   "codemirror_mode": {
    "name": "ipython",
    "version": 3
   },
   "file_extension": ".py",
   "mimetype": "text/x-python",
   "name": "python",
   "nbconvert_exporter": "python",
   "pygments_lexer": "ipython3",
   "version": "3.9.15 (main, Nov 24 2022, 14:39:17) [MSC v.1916 64 bit (AMD64)]"
  },
  "orig_nbformat": 4,
  "vscode": {
   "interpreter": {
    "hash": "ffccf19f5bea3c345c854d505af45eafe6890432f50bcc58a653a75b25e4385b"
   }
  }
 },
 "nbformat": 4,
 "nbformat_minor": 2
}
